{
  "nbformat": 4,
  "nbformat_minor": 0,
  "metadata": {
    "colab": {
      "provenance": [],
      "collapsed_sections": [
        "8V8MCfJNJkJ3"
      ],
      "authorship_tag": "ABX9TyM/RD9I0Gq9xv7eiS2eU4id",
      "include_colab_link": true
    },
    "kernelspec": {
      "name": "python3",
      "display_name": "Python 3"
    },
    "language_info": {
      "name": "python"
    },
    "accelerator": "GPU",
    "gpuClass": "standard"
  },
  "cells": [
    {
      "cell_type": "markdown",
      "metadata": {
        "id": "view-in-github",
        "colab_type": "text"
      },
      "source": [
        "<a href=\"https://colab.research.google.com/github/Martlgap/x-face-verification/blob/main/demo.ipynb\" target=\"_parent\"><img src=\"https://colab.research.google.com/assets/colab-badge.svg\" alt=\"Open In Colab\"/></a>"
      ]
    },
    {
      "cell_type": "markdown",
      "source": [
        "Prerequisites"
      ],
      "metadata": {
        "id": "910_TwXKJHZ5"
      }
    },
    {
      "cell_type": "code",
      "source": [
        "# Prerequisites\n",
        "!git clone https://github.com/Martlgap/x-face-verification.git\n",
        "!pip install -r x-face-verification/requirements.txt\n",
        "!wget https://github.com/Martlgap/octuplet-loss/releases/download/modelweights/ArcFaceOctupletLoss.tf.zip -P x-face-verification/demo\n",
        "!unzip x-face-verification/demo/ArcFaceOctupletLoss.tf.zip -d x-face-verification/demo"
      ],
      "metadata": {
        "id": "0pzObo6vHbNK"
      },
      "execution_count": null,
      "outputs": []
    },
    {
      "cell_type": "code",
      "source": [
        "# Add the Repo to PYTHONPATH\n",
        "import os\n",
        "os.environ['PYTHONPATH'] += \":/content/x-face-verification\""
      ],
      "metadata": {
        "id": "LEJb5fp8Ekxv"
      },
      "execution_count": 2,
      "outputs": []
    },
    {
      "cell_type": "code",
      "source": [
        "# Set the Repo as working directory\n",
        "%cd x-face-verification/"
      ],
      "metadata": {
        "id": "FOsM2O9dNlMq"
      },
      "execution_count": null,
      "outputs": []
    },
    {
      "cell_type": "markdown",
      "source": [
        "# Example for Confidence Score Calculation"
      ],
      "metadata": {
        "id": "h8WQwgOSJONC"
      }
    },
    {
      "cell_type": "markdown",
      "source": [
        "Imports"
      ],
      "metadata": {
        "id": "8V8MCfJNJkJ3"
      }
    },
    {
      "cell_type": "code",
      "source": [
        "import pickle\n",
        "from src import ConfidenceScoreGenerator, calculate_score\n",
        "from sklearn.metrics.pairwise import paired_cosine_distances"
      ],
      "metadata": {
        "id": "YD-GaC6lJqrl"
      },
      "execution_count": 4,
      "outputs": []
    },
    {
      "cell_type": "markdown",
      "source": [
        "Load example embedddings and labels (Generated for XQLFW database utilizing a FaceTransformer model fine-tuned with OctupletLoss)"
      ],
      "metadata": {
        "id": "5o73WcifJtbr"
      }
    },
    {
      "cell_type": "code",
      "source": [
        "with open(\"./demo/embeddings1.pkl\", \"rb\") as f:\n",
        "    embeddings1 = pickle.load(f)\n",
        "with open(\"./demo/embeddings2.pkl\", \"rb\") as f:\n",
        "    embeddings2 = pickle.load(f)\n",
        "with open(\"./demo/labels.pkl\", \"rb\") as f:\n",
        "    labels = pickle.load(f)"
      ],
      "metadata": {
        "id": "3QWSvCyaJ_jZ"
      },
      "execution_count": 5,
      "outputs": []
    },
    {
      "cell_type": "markdown",
      "source": [
        "Calculate Confidence Score"
      ],
      "metadata": {
        "id": "Uld1iB1zKDiW"
      }
    },
    {
      "cell_type": "code",
      "source": [
        "# Calculate pairwise cosine distances\n",
        "distances = paired_cosine_distances(embeddings1, embeddings2)\n",
        "\n",
        "# Define a threshold for binary decision\n",
        "THRESHOLD = 0.2250\n",
        "\n",
        "# Initiate the confidence calculation with the distances, labels and threshold of a dataset\n",
        "ConfidenceScoreGenerator = ConfidenceScoreGenerator()\n",
        "sigmoid_parameters = ConfidenceScoreGenerator(cosine_distances=distances, labels=labels, threshold=THRESHOLD)\n",
        "\n",
        "# Calculate scores for specific pairs\n",
        "PAIR_ID = 0\n",
        "confidence_score_raw = calculate_score(sigmoid_parameters, distances[PAIR_ID])\n",
        "confidence_score = (confidence_score_raw if distances[PAIR_ID] < THRESHOLD else 1 - confidence_score_raw) * 100\n",
        "\n",
        "# Display result\n",
        "print(\n",
        "    f'The prediction: \"{distances[PAIR_ID] < THRESHOLD}\" for pair id: {PAIR_ID} '\n",
        "    f\"has a confidence score of: {confidence_score:.02f}%.\"\n",
        "    )"
      ],
      "metadata": {
        "id": "UEN4tnjZKPOW"
      },
      "execution_count": null,
      "outputs": []
    },
    {
      "cell_type": "markdown",
      "source": [
        "# Example for Generation Explanation Maps"
      ],
      "metadata": {
        "id": "-tC-jtO-KnvR"
      }
    },
    {
      "cell_type": "markdown",
      "source": [
        "Imports"
      ],
      "metadata": {
        "id": "ba_1OcYIKtR8"
      }
    },
    {
      "cell_type": "code",
      "source": [
        "import matplotlib.pyplot as plt\n",
        "import cv2\n",
        "import numpy as np\n",
        "from src import MapGenerator, colorblend\n",
        "from demo import ArcFaceOctupletLoss"
      ],
      "metadata": {
        "id": "LXrN-SNGKyWt"
      },
      "execution_count": 17,
      "outputs": []
    },
    {
      "cell_type": "markdown",
      "source": [
        "Load example pair of images"
      ],
      "metadata": {
        "id": "PZLyKHzpKtF7"
      }
    },
    {
      "cell_type": "code",
      "source": [
        "image_pair = (\n",
        "    cv2.cvtColor(cv2.imread(\"./demo/img1.png\"), cv2.COLOR_BGR2RGB).astype(np.float32) / 255,\n",
        "    cv2.cvtColor(cv2.imread(\"./demo/img2.png\"), cv2.COLOR_BGR2RGB).astype(np.float32) / 255,\n",
        ")\n",
        "\n",
        "# Show example image pair\n",
        "fig, ax = plt.subplots(1, 2)\n",
        "fig.suptitle(\"Example Image Pair\")\n",
        "ax[0].imshow(image_pair[0]), ax[1].imshow(image_pair[1])\n",
        "fig.show()"
      ],
      "metadata": {
        "id": "h5ekhriNKyEv"
      },
      "execution_count": null,
      "outputs": []
    },
    {
      "cell_type": "markdown",
      "source": [
        "Generate Explanation Maps"
      ],
      "metadata": {
        "id": "kM3qeN1_K2Fi"
      }
    },
    {
      "cell_type": "code",
      "source": [
        "# Instantiate the MapGenerator\n",
        "MapGenerator = MapGenerator(inference_fn=ArcFaceOctupletLoss(batch_size=64))\n",
        "\n",
        "# Generate and visualize the explanation maps\n",
        "fig, ax = plt.subplots(3, 2)\n",
        "fig.suptitle(\"Explanation Maps for Method 1, 2 and 3\")\n",
        "print(\"Method 1:\")\n",
        "map1_m1, map2_m1 = MapGenerator(*image_pair, method=\"1\")  # using method 1 for explanation maps\n",
        "ax[0, 0].imshow(map1_m1), ax[0, 1].imshow(map2_m1)\n",
        "print(\"Method 2:\")\n",
        "map1_m2, map2_m2 = MapGenerator(*image_pair, method=\"2\")  # using method 2 for explanation maps\n",
        "ax[1, 0].imshow(map1_m2), ax[1, 1].imshow(map2_m2)\n",
        "print(\"Method 3:\")\n",
        "map1_m3, map2_m3 = MapGenerator(*image_pair, method=\"3\")  # using method 3 for explanation maps\n",
        "ax[2, 0].imshow(map1_m3), ax[2, 1].imshow(map2_m3)\n",
        "plt.show()"
      ],
      "metadata": {
        "id": "pewoGNWGLx1C"
      },
      "execution_count": null,
      "outputs": []
    },
    {
      "cell_type": "markdown",
      "source": [
        "Blend the explanations maps with the original images and visualize"
      ],
      "metadata": {
        "id": "a67AiKxHL0MG"
      }
    },
    {
      "cell_type": "code",
      "source": [
        "fig, ax = plt.subplots(3, 2)\n",
        "fig.suptitle(\"Blended Explanation Maps for Method 1, 2 and 3\")\n",
        "ax[0, 0].imshow(colorblend(image_pair[0], map1_m1)), ax[0, 1].imshow(colorblend(image_pair[1], map2_m1))\n",
        "ax[1, 0].imshow(colorblend(image_pair[0], map1_m2)), ax[1, 1].imshow(colorblend(image_pair[1], map2_m2))\n",
        "ax[2, 0].imshow(colorblend(image_pair[0], map1_m3)), ax[2, 1].imshow(colorblend(image_pair[1], map2_m3))\n",
        "plt.show()"
      ],
      "metadata": {
        "id": "RbTdjtckHogN"
      },
      "execution_count": null,
      "outputs": []
    }
  ]
}