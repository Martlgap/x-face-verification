{
  "cells": [
    {
      "cell_type": "markdown",
      "metadata": {
        "colab_type": "text",
        "id": "view-in-github"
      },
      "source": [
        "<a href=\"https://colab.research.google.com/github/Martlgap/x-face-verification/blob/main/demo.ipynb\" target=\"_parent\"><img src=\"https://colab.research.google.com/assets/colab-badge.svg\" alt=\"Open In Colab\"/></a>"
      ]
    },
    {
      "cell_type": "markdown",
      "metadata": {
        "id": "910_TwXKJHZ5"
      },
      "source": [
        "# Prerequisites"
      ]
    },
    {
      "cell_type": "code",
      "execution_count": null,
      "metadata": {
        "id": "0pzObo6vHbNK"
      },
      "outputs": [],
      "source": [
        "# Prerequisites\n",
        "!git clone https://github.com/Martlgap/x-face-verification.git\n",
        "!pip install -r x-face-verification/requirements.txt\n",
        "!wget https://github.com/Martlgap/octuplet-loss/releases/download/modelweights/ArcFaceOctupletLoss.tf.zip -P x-face-verification/demo\n",
        "!unzip x-face-verification/demo/ArcFaceOctupletLoss.tf.zip -d x-face-verification/demo"
      ]
    },
    {
      "cell_type": "code",
      "execution_count": null,
      "metadata": {
        "id": "LEJb5fp8Ekxv"
      },
      "outputs": [],
      "source": [
        "# Add the Repo to PYTHONPATH\n",
        "import os\n",
        "os.environ['PYTHONPATH'] += \":/content/x-face-verification\""
      ]
    },
    {
      "cell_type": "code",
      "execution_count": null,
      "metadata": {
        "id": "FOsM2O9dNlMq"
      },
      "outputs": [],
      "source": [
        "# Set the Repo as working directory\n",
        "%cd x-face-verification/"
      ]
    },
    {
      "cell_type": "markdown",
      "metadata": {
        "id": "h8WQwgOSJONC"
      },
      "source": [
        "# Example for Confidence Score Calculation"
      ]
    },
    {
      "cell_type": "markdown",
      "metadata": {
        "id": "8V8MCfJNJkJ3"
      },
      "source": [
        "Imports"
      ]
    },
    {
      "cell_type": "code",
      "execution_count": null,
      "metadata": {
        "id": "YD-GaC6lJqrl"
      },
      "outputs": [],
      "source": [
        "import pickle\n",
        "from src import ConfidenceScoreGenerator, calculate_score\n",
        "from sklearn.metrics.pairwise import paired_cosine_distances"
      ]
    },
    {
      "cell_type": "markdown",
      "metadata": {
        "id": "5o73WcifJtbr"
      },
      "source": [
        "Load example embedddings and labels (Generated for XQLFW database utilizing a FaceTransformer model fine-tuned with OctupletLoss)"
      ]
    },
    {
      "cell_type": "code",
      "execution_count": null,
      "metadata": {
        "id": "3QWSvCyaJ_jZ"
      },
      "outputs": [],
      "source": [
        "with open(\"./demo/embeddings1.pkl\", \"rb\") as f:\n",
        "    embeddings1 = pickle.load(f)\n",
        "with open(\"./demo/embeddings2.pkl\", \"rb\") as f:\n",
        "    embeddings2 = pickle.load(f)\n",
        "with open(\"./demo/labels.pkl\", \"rb\") as f:\n",
        "    labels = pickle.load(f)"
      ]
    },
    {
      "cell_type": "markdown",
      "metadata": {
        "id": "Uld1iB1zKDiW"
      },
      "source": [
        "Calculate Confidence Score"
      ]
    },
    {
      "cell_type": "code",
      "execution_count": null,
      "metadata": {
        "id": "UEN4tnjZKPOW"
      },
      "outputs": [],
      "source": [
        "# Calculate pairwise cosine distances\n",
        "distances = paired_cosine_distances(embeddings1, embeddings2)\n",
        "\n",
        "# Initiate the confidence calculation with the distances, labels and threshold of a dataset\n",
        "sigmoid_parameters, threshold = ConfidenceScoreGenerator(bins=2000, p0k=-18)(cosine_distances=distances, labels=labels)\n",
        "\n",
        "# (Foldwise -> Use if you want to calculate the confidence scores with k-fold cross validation\n",
        "# This is what we did in the paper, to prevent using prior knowledge for the score\n",
        "# For the score calculation you then need to check to which fold the pair_id belongs to and use those sigmoid parameters)\n",
        "# sigmoid_parameters_folds, threshold_folds = ConfidenceScoreGenerator(bins=2000, p0k=-18).foldwise(cosine_distances=distances, labels=labels, k_folds=10)\n",
        "\n",
        "# Calculate scores for specific pairs\n",
        "PAIR_ID = 0\n",
        "confidence_score_raw = calculate_score(sigmoid_parameters, distances[PAIR_ID])\n",
        "confidence_score = (confidence_score_raw if distances[PAIR_ID] < threshold else 1 - confidence_score_raw) * 100\n",
        "\n",
        "# Display result\n",
        "print(\n",
        "    f'The prediction: \"{distances[PAIR_ID] < threshold}\" for pair id: {PAIR_ID} '\n",
        "    f\"has a confidence score of: {confidence_score:.02f}%.\"\n",
        ")\n",
        "\n"
      ]
    },
    {
      "cell_type": "markdown",
      "metadata": {
        "id": "-tC-jtO-KnvR"
      },
      "source": [
        "# Example for Generation Explanation Maps"
      ]
    },
    {
      "cell_type": "markdown",
      "metadata": {
        "id": "ba_1OcYIKtR8"
      },
      "source": [
        "Imports"
      ]
    },
    {
      "cell_type": "code",
      "execution_count": null,
      "metadata": {
        "id": "LXrN-SNGKyWt"
      },
      "outputs": [],
      "source": [
        "import matplotlib.pyplot as plt\n",
        "import cv2\n",
        "import numpy as np\n",
        "from src import MapGenerator, colorblend\n",
        "from demo import ArcFaceOctupletLoss"
      ]
    },
    {
      "cell_type": "markdown",
      "metadata": {
        "id": "PZLyKHzpKtF7"
      },
      "source": [
        "Load example pair of images"
      ]
    },
    {
      "cell_type": "code",
      "execution_count": null,
      "metadata": {
        "id": "h5ekhriNKyEv"
      },
      "outputs": [],
      "source": [
        "image_pair = (\n",
        "    cv2.cvtColor(cv2.imread(\"./demo/img1.png\"), cv2.COLOR_BGR2RGB).astype(np.float32) / 255,\n",
        "    cv2.cvtColor(cv2.imread(\"./demo/img2.png\"), cv2.COLOR_BGR2RGB).astype(np.float32) / 255,\n",
        ")\n",
        "\n",
        "# Show example image pair\n",
        "fig, ax = plt.subplots(1, 2)\n",
        "fig.suptitle(\"Example Image Pair\")\n",
        "ax[0].imshow(image_pair[0]), ax[1].imshow(image_pair[1])\n",
        "fig.show()"
      ]
    },
    {
      "cell_type": "markdown",
      "metadata": {
        "id": "kM3qeN1_K2Fi"
      },
      "source": [
        "Generate Explanation Maps"
      ]
    },
    {
      "cell_type": "code",
      "execution_count": null,
      "metadata": {
        "id": "pewoGNWGLx1C"
      },
      "outputs": [],
      "source": [
        "# Instantiate the MapGenerator\n",
        "MapGenerator = MapGenerator(inference_fn=ArcFaceOctupletLoss(batch_size=64))\n",
        "\n",
        "# Generate and visualize the explanation maps\n",
        "fig, ax = plt.subplots(3, 2)\n",
        "fig.suptitle(\"Explanation Maps for Method 1, 2 and 3\")\n",
        "print(\"Method 1:\")\n",
        "map1_m1, map2_m1 = MapGenerator(*image_pair, method=\"1\")  # using method 1 for explanation maps\n",
        "ax[0, 0].imshow(map1_m1), ax[0, 1].imshow(map2_m1)\n",
        "print(\"Method 2:\")\n",
        "map1_m2, map2_m2 = MapGenerator(*image_pair, method=\"2\")  # using method 2 for explanation maps\n",
        "ax[1, 0].imshow(map1_m2), ax[1, 1].imshow(map2_m2)\n",
        "print(\"Method 3:\")\n",
        "map1_m3, map2_m3 = MapGenerator(*image_pair, method=\"3\")  # using method 3 for explanation maps\n",
        "ax[2, 0].imshow(map1_m3), ax[2, 1].imshow(map2_m3)\n",
        "plt.show()"
      ]
    },
    {
      "cell_type": "markdown",
      "metadata": {
        "id": "a67AiKxHL0MG"
      },
      "source": [
        "Blend the explanations maps with the original images and visualize"
      ]
    },
    {
      "cell_type": "code",
      "execution_count": null,
      "metadata": {
        "id": "RbTdjtckHogN"
      },
      "outputs": [],
      "source": [
        "fig, ax = plt.subplots(3, 2)\n",
        "fig.suptitle(\"Blended Explanation Maps for Method 1, 2 and 3\")\n",
        "ax[0, 0].imshow(colorblend(image_pair[0], map1_m1)), ax[0, 1].imshow(colorblend(image_pair[1], map2_m1))\n",
        "ax[1, 0].imshow(colorblend(image_pair[0], map1_m2)), ax[1, 1].imshow(colorblend(image_pair[1], map2_m2))\n",
        "ax[2, 0].imshow(colorblend(image_pair[0], map1_m3)), ax[2, 1].imshow(colorblend(image_pair[1], map2_m3))\n",
        "plt.show()"
      ]
    }
  ],
  "metadata": {
    "accelerator": "GPU",
    "colab": {
      "authorship_tag": "ABX9TyNqjmzFwj+pJ5KFICgAyfmY",
      "collapsed_sections": [
        "8V8MCfJNJkJ3"
      ],
      "include_colab_link": true,
      "provenance": []
    },
    "gpuClass": "standard",
    "kernelspec": {
      "display_name": "Python 3",
      "name": "python3"
    },
    "language_info": {
      "name": "python"
    }
  },
  "nbformat": 4,
  "nbformat_minor": 0
}
